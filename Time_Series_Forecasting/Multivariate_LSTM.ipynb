{
  "nbformat": 4,
  "nbformat_minor": 0,
  "metadata": {
    "colab": {
      "provenance": []
    },
    "kernelspec": {
      "name": "python3",
      "display_name": "Python 3"
    },
    "language_info": {
      "name": "python"
    }
  },
  "cells": [
    {
      "cell_type": "code",
      "execution_count": 25,
      "metadata": {
        "id": "AeRMHumUPc51"
      },
      "outputs": [],
      "source": [
        "import numpy as np\n",
        "from tensorflow.keras.models import Sequential\n",
        "from tensorflow.keras.layers import LSTM\n",
        "from tensorflow.keras.layers import Dense, Dropout\n",
        "import pandas as pd\n",
        "from matplotlib import pyplot as plt\n",
        "from sklearn.preprocessing import StandardScaler\n",
        "import seaborn as sns"
      ]
    },
    {
      "cell_type": "code",
      "source": [
        "import yfinance as yf\n",
        "\n",
        "# Define the ticker symbol\n",
        "ticker_symbol = \"GE\"\n",
        "\n",
        "# Fetch the historical data\n",
        "ge_data = yf.download(ticker_symbol, start=\"2012-01-01\", end=\"2023-12-31\")\n",
        "\n",
        "# Display the data\n",
        "print(ge_data)\n",
        "\n",
        "# Save the data to a CSV file\n",
        "ge_data.to_csv(\"GE_Aerospace_data.csv\")\n",
        "\n",
        "\n"
      ],
      "metadata": {
        "colab": {
          "base_uri": "https://localhost:8080/"
        },
        "id": "CxvVF9QSSzWg",
        "outputId": "5189cbcc-e6c2-4fc7-9dae-f6f37a211125"
      },
      "execution_count": 13,
      "outputs": [
        {
          "output_type": "stream",
          "name": "stderr",
          "text": [
            "\r[*********************100%***********************]  1 of 1 completed"
          ]
        },
        {
          "output_type": "stream",
          "name": "stdout",
          "text": [
            "Price                       Adj Close       Close        High         Low  \\\n",
            "Ticker                             GE          GE          GE          GE   \n",
            "Date                                                                        \n",
            "2012-01-03 00:00:00+00:00   68.274689   87.989151   88.660095   87.366135   \n",
            "2012-01-04 00:00:00+00:00   69.018394   88.947639   89.139336   87.605759   \n",
            "2012-01-05 00:00:00+00:00   68.981216   88.899712   89.139336   87.653679   \n",
            "2012-01-06 00:00:00+00:00   69.353081   89.378960   90.049896   88.947639   \n",
            "2012-01-09 00:00:00+00:00   70.134010   90.385368   90.481216   88.947639   \n",
            "...                               ...         ...         ...         ...   \n",
            "2023-12-22 00:00:00+00:00  100.547089  101.109337  102.178772  100.702316   \n",
            "2023-12-26 00:00:00+00:00  101.166130  101.731842  101.923386  101.069435   \n",
            "2023-12-27 00:00:00+00:00  101.809387  102.314445  102.482040  101.237030   \n",
            "2023-12-28 00:00:00+00:00  101.904686  102.410217  103.112534  102.003189   \n",
            "2023-12-29 00:00:00+00:00  101.356728  101.859535  102.537910  101.324821   \n",
            "\n",
            "Price                            Open    Volume  \n",
            "Ticker                             GE        GE  \n",
            "Date                                             \n",
            "2012-01-03 00:00:00+00:00   87.366135  12249842  \n",
            "2012-01-04 00:00:00+00:00   87.749527   8921285  \n",
            "2012-01-05 00:00:00+00:00   88.468391   9560730  \n",
            "2012-01-06 00:00:00+00:00   89.762352  10656248  \n",
            "2012-01-09 00:00:00+00:00   89.810280   9804489  \n",
            "...                               ...       ...  \n",
            "2023-12-22 00:00:00+00:00  101.667999   4030650  \n",
            "2023-12-26 00:00:00+00:00  101.197128   2480063  \n",
            "2023-12-27 00:00:00+00:00  101.276932   3314310  \n",
            "2023-12-28 00:00:00+00:00  102.154831   3965494  \n",
            "2023-12-29 00:00:00+00:00  102.346367   4441133  \n",
            "\n",
            "[3018 rows x 6 columns]\n"
          ]
        },
        {
          "output_type": "stream",
          "name": "stderr",
          "text": [
            "\n"
          ]
        }
      ]
    },
    {
      "cell_type": "code",
      "source": [
        "df = pd.read_csv('GE_Aerospace_data.csv')"
      ],
      "metadata": {
        "id": "CW564QrKPrfZ"
      },
      "execution_count": 14,
      "outputs": []
    },
    {
      "cell_type": "code",
      "source": [
        "file_path = \"GE_Aerospace_data.csv\"\n",
        "df = pd.read_csv(file_path, skiprows=2)  # Skip the first two rows\n",
        "\n",
        "# Rename columns to match expected structure (optional, if necessary)\n",
        "df.columns = ['Date', 'Adj Close', 'Close', 'High', 'Low', 'Open', 'Volume']\n",
        "\n",
        "# Convert 'Date' column to datetime format\n",
        "df['Date'] = pd.to_datetime(df['Date'])\n",
        "\n",
        "# Display the fixed dataframe\n",
        "print(df.head())"
      ],
      "metadata": {
        "colab": {
          "base_uri": "https://localhost:8080/"
        },
        "id": "_Lc2p2_zTFnP",
        "outputId": "3fc931cd-73e9-4dc2-d817-ef6eff89ee9a"
      },
      "execution_count": 18,
      "outputs": [
        {
          "output_type": "stream",
          "name": "stdout",
          "text": [
            "                       Date  Adj Close      Close       High        Low  \\\n",
            "0 2012-01-03 00:00:00+00:00  68.274689  87.989151  88.660095  87.366135   \n",
            "1 2012-01-04 00:00:00+00:00  69.018394  88.947639  89.139336  87.605759   \n",
            "2 2012-01-05 00:00:00+00:00  68.981216  88.899712  89.139336  87.653679   \n",
            "3 2012-01-06 00:00:00+00:00  69.353081  89.378960  90.049896  88.947639   \n",
            "4 2012-01-09 00:00:00+00:00  70.134010  90.385368  90.481216  88.947639   \n",
            "\n",
            "        Open    Volume  \n",
            "0  87.366135  12249842  \n",
            "1  87.749527   8921285  \n",
            "2  88.468391   9560730  \n",
            "3  89.762352  10656248  \n",
            "4  89.810280   9804489  \n"
          ]
        }
      ]
    },
    {
      "cell_type": "code",
      "source": [
        "train_dates = pd.to_datetime(df['Date'])"
      ],
      "metadata": {
        "id": "Waf6qa7ETyFC"
      },
      "execution_count": 19,
      "outputs": []
    },
    {
      "cell_type": "code",
      "source": [
        "#Variables for training\n",
        "cols = list(df)[1:6]"
      ],
      "metadata": {
        "id": "QHPi61Q2Uosw"
      },
      "execution_count": 21,
      "outputs": []
    },
    {
      "cell_type": "code",
      "source": [
        "df_for_training = df[cols].astype(float)\n"
      ],
      "metadata": {
        "id": "JsSvfh1_U0KK"
      },
      "execution_count": 22,
      "outputs": []
    },
    {
      "cell_type": "code",
      "source": [
        "#LSTM uses sigmoid and tanh that are sensitive to magnitude so values need to be normalized\n",
        "scaler = StandardScaler()\n",
        "scaler = scaler.fit(df_for_training)\n",
        "df_for_training_scaled = scaler.transform(df_for_training)"
      ],
      "metadata": {
        "id": "v3qv2smfVEiP"
      },
      "execution_count": 26,
      "outputs": []
    },
    {
      "cell_type": "code",
      "source": [
        "# For LSTM networks, we require to reshape an input data into n_samples x timesteps x n_features.\n",
        "trainX = [] #total, looking back days, total var\n",
        "trainY = [] #total, looking back days, total var"
      ],
      "metadata": {
        "id": "W22faqxKVVY6"
      },
      "execution_count": 27,
      "outputs": []
    },
    {
      "cell_type": "code",
      "source": [
        "n_future = 1 # Number of days we want to predict into the future\n",
        "n_past = 14 # Number of past days we want to use to predict the future\n",
        "\n",
        "for i in range(n_past, len(df_for_training_scaled) - n_future +1):\n",
        "    trainX.append(df_for_training_scaled[i - n_past:i, 0:df_for_training.shape[1]])\n",
        "    trainY.append(df_for_training_scaled[i + n_future - 1:i + n_future, 0])"
      ],
      "metadata": {
        "id": "gKDpj7yQWQwt"
      },
      "execution_count": 28,
      "outputs": []
    },
    {
      "cell_type": "code",
      "source": [
        "trainX, trainY = np.array(trainX), np.array(trainY)\n",
        "trainX.shape, trainY.shape"
      ],
      "metadata": {
        "colab": {
          "base_uri": "https://localhost:8080/"
        },
        "id": "UCAMgVVWXEZ6",
        "outputId": "362545ec-d703-4e3e-c928-ac9db8beff64"
      },
      "execution_count": 39,
      "outputs": [
        {
          "output_type": "execute_result",
          "data": {
            "text/plain": [
              "((3004, 14, 5), (3004, 1))"
            ]
          },
          "metadata": {},
          "execution_count": 39
        }
      ]
    },
    {
      "cell_type": "code",
      "source": [
        "# Autoencoder Model\n",
        "model = Sequential()\n",
        "model.add(LSTM(64, activation='relu', input_shape=(trainX.shape[1], trainX.shape[2]), return_sequences=True))\n",
        "model.add(LSTM(32, activation='relu', return_sequences=False))\n",
        "model.add(Dropout(0.2))\n",
        "model.add(Dense(trainY.shape[1]))\n",
        "\n",
        "model.compile(optimizer='adam', loss='mse')\n",
        "model.summary()\n"
      ],
      "metadata": {
        "colab": {
          "base_uri": "https://localhost:8080/",
          "height": 320
        },
        "id": "FUmr3e_CZCPZ",
        "outputId": "3adfbc9e-200c-484e-ad52-efc691ef3860"
      },
      "execution_count": 40,
      "outputs": [
        {
          "output_type": "stream",
          "name": "stderr",
          "text": [
            "/usr/local/lib/python3.10/dist-packages/keras/src/layers/rnn/rnn.py:204: UserWarning: Do not pass an `input_shape`/`input_dim` argument to a layer. When using Sequential models, prefer using an `Input(shape)` object as the first layer in the model instead.\n",
            "  super().__init__(**kwargs)\n"
          ]
        },
        {
          "output_type": "display_data",
          "data": {
            "text/plain": [
              "\u001b[1mModel: \"sequential\"\u001b[0m\n"
            ],
            "text/html": [
              "<pre style=\"white-space:pre;overflow-x:auto;line-height:normal;font-family:Menlo,'DejaVu Sans Mono',consolas,'Courier New',monospace\"><span style=\"font-weight: bold\">Model: \"sequential\"</span>\n",
              "</pre>\n"
            ]
          },
          "metadata": {}
        },
        {
          "output_type": "display_data",
          "data": {
            "text/plain": [
              "┏━━━━━━━━━━━━━━━━━━━━━━━━━━━━━━━━━━━━━━┳━━━━━━━━━━━━━━━━━━━━━━━━━━━━━┳━━━━━━━━━━━━━━━━━┓\n",
              "┃\u001b[1m \u001b[0m\u001b[1mLayer (type)                        \u001b[0m\u001b[1m \u001b[0m┃\u001b[1m \u001b[0m\u001b[1mOutput Shape               \u001b[0m\u001b[1m \u001b[0m┃\u001b[1m \u001b[0m\u001b[1m        Param #\u001b[0m\u001b[1m \u001b[0m┃\n",
              "┡━━━━━━━━━━━━━━━━━━━━━━━━━━━━━━━━━━━━━━╇━━━━━━━━━━━━━━━━━━━━━━━━━━━━━╇━━━━━━━━━━━━━━━━━┩\n",
              "│ lstm (\u001b[38;5;33mLSTM\u001b[0m)                          │ (\u001b[38;5;45mNone\u001b[0m, \u001b[38;5;34m14\u001b[0m, \u001b[38;5;34m64\u001b[0m)              │          \u001b[38;5;34m17,920\u001b[0m │\n",
              "├──────────────────────────────────────┼─────────────────────────────┼─────────────────┤\n",
              "│ lstm_1 (\u001b[38;5;33mLSTM\u001b[0m)                        │ (\u001b[38;5;45mNone\u001b[0m, \u001b[38;5;34m32\u001b[0m)                  │          \u001b[38;5;34m12,416\u001b[0m │\n",
              "├──────────────────────────────────────┼─────────────────────────────┼─────────────────┤\n",
              "│ dropout (\u001b[38;5;33mDropout\u001b[0m)                    │ (\u001b[38;5;45mNone\u001b[0m, \u001b[38;5;34m32\u001b[0m)                  │               \u001b[38;5;34m0\u001b[0m │\n",
              "├──────────────────────────────────────┼─────────────────────────────┼─────────────────┤\n",
              "│ dense (\u001b[38;5;33mDense\u001b[0m)                        │ (\u001b[38;5;45mNone\u001b[0m, \u001b[38;5;34m1\u001b[0m)                   │              \u001b[38;5;34m33\u001b[0m │\n",
              "└──────────────────────────────────────┴─────────────────────────────┴─────────────────┘\n"
            ],
            "text/html": [
              "<pre style=\"white-space:pre;overflow-x:auto;line-height:normal;font-family:Menlo,'DejaVu Sans Mono',consolas,'Courier New',monospace\">┏━━━━━━━━━━━━━━━━━━━━━━━━━━━━━━━━━━━━━━┳━━━━━━━━━━━━━━━━━━━━━━━━━━━━━┳━━━━━━━━━━━━━━━━━┓\n",
              "┃<span style=\"font-weight: bold\"> Layer (type)                         </span>┃<span style=\"font-weight: bold\"> Output Shape                </span>┃<span style=\"font-weight: bold\">         Param # </span>┃\n",
              "┡━━━━━━━━━━━━━━━━━━━━━━━━━━━━━━━━━━━━━━╇━━━━━━━━━━━━━━━━━━━━━━━━━━━━━╇━━━━━━━━━━━━━━━━━┩\n",
              "│ lstm (<span style=\"color: #0087ff; text-decoration-color: #0087ff\">LSTM</span>)                          │ (<span style=\"color: #00d7ff; text-decoration-color: #00d7ff\">None</span>, <span style=\"color: #00af00; text-decoration-color: #00af00\">14</span>, <span style=\"color: #00af00; text-decoration-color: #00af00\">64</span>)              │          <span style=\"color: #00af00; text-decoration-color: #00af00\">17,920</span> │\n",
              "├──────────────────────────────────────┼─────────────────────────────┼─────────────────┤\n",
              "│ lstm_1 (<span style=\"color: #0087ff; text-decoration-color: #0087ff\">LSTM</span>)                        │ (<span style=\"color: #00d7ff; text-decoration-color: #00d7ff\">None</span>, <span style=\"color: #00af00; text-decoration-color: #00af00\">32</span>)                  │          <span style=\"color: #00af00; text-decoration-color: #00af00\">12,416</span> │\n",
              "├──────────────────────────────────────┼─────────────────────────────┼─────────────────┤\n",
              "│ dropout (<span style=\"color: #0087ff; text-decoration-color: #0087ff\">Dropout</span>)                    │ (<span style=\"color: #00d7ff; text-decoration-color: #00d7ff\">None</span>, <span style=\"color: #00af00; text-decoration-color: #00af00\">32</span>)                  │               <span style=\"color: #00af00; text-decoration-color: #00af00\">0</span> │\n",
              "├──────────────────────────────────────┼─────────────────────────────┼─────────────────┤\n",
              "│ dense (<span style=\"color: #0087ff; text-decoration-color: #0087ff\">Dense</span>)                        │ (<span style=\"color: #00d7ff; text-decoration-color: #00d7ff\">None</span>, <span style=\"color: #00af00; text-decoration-color: #00af00\">1</span>)                   │              <span style=\"color: #00af00; text-decoration-color: #00af00\">33</span> │\n",
              "└──────────────────────────────────────┴─────────────────────────────┴─────────────────┘\n",
              "</pre>\n"
            ]
          },
          "metadata": {}
        },
        {
          "output_type": "display_data",
          "data": {
            "text/plain": [
              "\u001b[1m Total params: \u001b[0m\u001b[38;5;34m30,369\u001b[0m (118.63 KB)\n"
            ],
            "text/html": [
              "<pre style=\"white-space:pre;overflow-x:auto;line-height:normal;font-family:Menlo,'DejaVu Sans Mono',consolas,'Courier New',monospace\"><span style=\"font-weight: bold\"> Total params: </span><span style=\"color: #00af00; text-decoration-color: #00af00\">30,369</span> (118.63 KB)\n",
              "</pre>\n"
            ]
          },
          "metadata": {}
        },
        {
          "output_type": "display_data",
          "data": {
            "text/plain": [
              "\u001b[1m Trainable params: \u001b[0m\u001b[38;5;34m30,369\u001b[0m (118.63 KB)\n"
            ],
            "text/html": [
              "<pre style=\"white-space:pre;overflow-x:auto;line-height:normal;font-family:Menlo,'DejaVu Sans Mono',consolas,'Courier New',monospace\"><span style=\"font-weight: bold\"> Trainable params: </span><span style=\"color: #00af00; text-decoration-color: #00af00\">30,369</span> (118.63 KB)\n",
              "</pre>\n"
            ]
          },
          "metadata": {}
        },
        {
          "output_type": "display_data",
          "data": {
            "text/plain": [
              "\u001b[1m Non-trainable params: \u001b[0m\u001b[38;5;34m0\u001b[0m (0.00 B)\n"
            ],
            "text/html": [
              "<pre style=\"white-space:pre;overflow-x:auto;line-height:normal;font-family:Menlo,'DejaVu Sans Mono',consolas,'Courier New',monospace\"><span style=\"font-weight: bold\"> Non-trainable params: </span><span style=\"color: #00af00; text-decoration-color: #00af00\">0</span> (0.00 B)\n",
              "</pre>\n"
            ]
          },
          "metadata": {}
        }
      ]
    },
    {
      "cell_type": "code",
      "source": [
        "#Fit Model\n",
        "history = model.fit(trainX, trainY, epochs=50, batch_size=16, validation_split=0.1, verbose=1)"
      ],
      "metadata": {
        "colab": {
          "base_uri": "https://localhost:8080/"
        },
        "id": "ouz8kEegZftb",
        "outputId": "261f0e0f-0b45-4198-9e85-b079999c07c4"
      },
      "execution_count": 41,
      "outputs": [
        {
          "output_type": "stream",
          "name": "stdout",
          "text": [
            "Epoch 1/50\n",
            "\u001b[1m169/169\u001b[0m \u001b[32m━━━━━━━━━━━━━━━━━━━━\u001b[0m\u001b[37m\u001b[0m \u001b[1m8s\u001b[0m 19ms/step - loss: 0.1853 - val_loss: 0.0595\n",
            "Epoch 2/50\n",
            "\u001b[1m169/169\u001b[0m \u001b[32m━━━━━━━━━━━━━━━━━━━━\u001b[0m\u001b[37m\u001b[0m \u001b[1m4s\u001b[0m 12ms/step - loss: 0.0455 - val_loss: 0.0474\n",
            "Epoch 3/50\n",
            "\u001b[1m169/169\u001b[0m \u001b[32m━━━━━━━━━━━━━━━━━━━━\u001b[0m\u001b[37m\u001b[0m \u001b[1m2s\u001b[0m 12ms/step - loss: 0.0427 - val_loss: 0.0367\n",
            "Epoch 4/50\n",
            "\u001b[1m169/169\u001b[0m \u001b[32m━━━━━━━━━━━━━━━━━━━━\u001b[0m\u001b[37m\u001b[0m \u001b[1m2s\u001b[0m 12ms/step - loss: 0.0383 - val_loss: 0.0276\n",
            "Epoch 5/50\n",
            "\u001b[1m169/169\u001b[0m \u001b[32m━━━━━━━━━━━━━━━━━━━━\u001b[0m\u001b[37m\u001b[0m \u001b[1m4s\u001b[0m 19ms/step - loss: 0.0391 - val_loss: 0.0226\n",
            "Epoch 6/50\n",
            "\u001b[1m169/169\u001b[0m \u001b[32m━━━━━━━━━━━━━━━━━━━━\u001b[0m\u001b[37m\u001b[0m \u001b[1m2s\u001b[0m 13ms/step - loss: 0.0434 - val_loss: 0.0312\n",
            "Epoch 7/50\n",
            "\u001b[1m169/169\u001b[0m \u001b[32m━━━━━━━━━━━━━━━━━━━━\u001b[0m\u001b[37m\u001b[0m \u001b[1m2s\u001b[0m 12ms/step - loss: 0.0400 - val_loss: 0.0222\n",
            "Epoch 8/50\n",
            "\u001b[1m169/169\u001b[0m \u001b[32m━━━━━━━━━━━━━━━━━━━━\u001b[0m\u001b[37m\u001b[0m \u001b[1m3s\u001b[0m 12ms/step - loss: 0.0328 - val_loss: 0.0172\n",
            "Epoch 9/50\n",
            "\u001b[1m169/169\u001b[0m \u001b[32m━━━━━━━━━━━━━━━━━━━━\u001b[0m\u001b[37m\u001b[0m \u001b[1m2s\u001b[0m 12ms/step - loss: 0.0345 - val_loss: 0.0191\n",
            "Epoch 10/50\n",
            "\u001b[1m169/169\u001b[0m \u001b[32m━━━━━━━━━━━━━━━━━━━━\u001b[0m\u001b[37m\u001b[0m \u001b[1m2s\u001b[0m 14ms/step - loss: 0.0334 - val_loss: 0.0166\n",
            "Epoch 11/50\n",
            "\u001b[1m169/169\u001b[0m \u001b[32m━━━━━━━━━━━━━━━━━━━━\u001b[0m\u001b[37m\u001b[0m \u001b[1m3s\u001b[0m 18ms/step - loss: 0.0349 - val_loss: 0.0124\n",
            "Epoch 12/50\n",
            "\u001b[1m169/169\u001b[0m \u001b[32m━━━━━━━━━━━━━━━━━━━━\u001b[0m\u001b[37m\u001b[0m \u001b[1m4s\u001b[0m 12ms/step - loss: 0.0355 - val_loss: 0.0167\n",
            "Epoch 13/50\n",
            "\u001b[1m169/169\u001b[0m \u001b[32m━━━━━━━━━━━━━━━━━━━━\u001b[0m\u001b[37m\u001b[0m \u001b[1m3s\u001b[0m 12ms/step - loss: 0.0351 - val_loss: 0.0149\n",
            "Epoch 14/50\n",
            "\u001b[1m169/169\u001b[0m \u001b[32m━━━━━━━━━━━━━━━━━━━━\u001b[0m\u001b[37m\u001b[0m \u001b[1m2s\u001b[0m 12ms/step - loss: 0.0343 - val_loss: 0.0141\n",
            "Epoch 15/50\n",
            "\u001b[1m169/169\u001b[0m \u001b[32m━━━━━━━━━━━━━━━━━━━━\u001b[0m\u001b[37m\u001b[0m \u001b[1m4s\u001b[0m 18ms/step - loss: 0.0348 - val_loss: 0.0118\n",
            "Epoch 16/50\n",
            "\u001b[1m169/169\u001b[0m \u001b[32m━━━━━━━━━━━━━━━━━━━━\u001b[0m\u001b[37m\u001b[0m \u001b[1m4s\u001b[0m 12ms/step - loss: 0.0327 - val_loss: 0.0145\n",
            "Epoch 17/50\n",
            "\u001b[1m169/169\u001b[0m \u001b[32m━━━━━━━━━━━━━━━━━━━━\u001b[0m\u001b[37m\u001b[0m \u001b[1m2s\u001b[0m 12ms/step - loss: 0.0344 - val_loss: 0.0159\n",
            "Epoch 18/50\n",
            "\u001b[1m169/169\u001b[0m \u001b[32m━━━━━━━━━━━━━━━━━━━━\u001b[0m\u001b[37m\u001b[0m \u001b[1m2s\u001b[0m 12ms/step - loss: 0.0346 - val_loss: 0.0137\n",
            "Epoch 19/50\n",
            "\u001b[1m169/169\u001b[0m \u001b[32m━━━━━━━━━━━━━━━━━━━━\u001b[0m\u001b[37m\u001b[0m \u001b[1m2s\u001b[0m 13ms/step - loss: 0.0385 - val_loss: 0.0149\n",
            "Epoch 20/50\n",
            "\u001b[1m169/169\u001b[0m \u001b[32m━━━━━━━━━━━━━━━━━━━━\u001b[0m\u001b[37m\u001b[0m \u001b[1m3s\u001b[0m 19ms/step - loss: 0.0358 - val_loss: 0.0124\n",
            "Epoch 21/50\n",
            "\u001b[1m169/169\u001b[0m \u001b[32m━━━━━━━━━━━━━━━━━━━━\u001b[0m\u001b[37m\u001b[0m \u001b[1m2s\u001b[0m 12ms/step - loss: 0.0352 - val_loss: 0.0152\n",
            "Epoch 22/50\n",
            "\u001b[1m169/169\u001b[0m \u001b[32m━━━━━━━━━━━━━━━━━━━━\u001b[0m\u001b[37m\u001b[0m \u001b[1m2s\u001b[0m 12ms/step - loss: 0.0313 - val_loss: 0.0106\n",
            "Epoch 23/50\n",
            "\u001b[1m169/169\u001b[0m \u001b[32m━━━━━━━━━━━━━━━━━━━━\u001b[0m\u001b[37m\u001b[0m \u001b[1m2s\u001b[0m 12ms/step - loss: 0.0331 - val_loss: 0.0096\n",
            "Epoch 24/50\n",
            "\u001b[1m169/169\u001b[0m \u001b[32m━━━━━━━━━━━━━━━━━━━━\u001b[0m\u001b[37m\u001b[0m \u001b[1m2s\u001b[0m 12ms/step - loss: 0.0345 - val_loss: 0.0101\n",
            "Epoch 25/50\n",
            "\u001b[1m169/169\u001b[0m \u001b[32m━━━━━━━━━━━━━━━━━━━━\u001b[0m\u001b[37m\u001b[0m \u001b[1m2s\u001b[0m 14ms/step - loss: 0.0322 - val_loss: 0.0143\n",
            "Epoch 26/50\n",
            "\u001b[1m169/169\u001b[0m \u001b[32m━━━━━━━━━━━━━━━━━━━━\u001b[0m\u001b[37m\u001b[0m \u001b[1m3s\u001b[0m 18ms/step - loss: 0.0338 - val_loss: 0.0110\n",
            "Epoch 27/50\n",
            "\u001b[1m169/169\u001b[0m \u001b[32m━━━━━━━━━━━━━━━━━━━━\u001b[0m\u001b[37m\u001b[0m \u001b[1m2s\u001b[0m 12ms/step - loss: 0.0320 - val_loss: 0.0064\n",
            "Epoch 28/50\n",
            "\u001b[1m169/169\u001b[0m \u001b[32m━━━━━━━━━━━━━━━━━━━━\u001b[0m\u001b[37m\u001b[0m \u001b[1m3s\u001b[0m 12ms/step - loss: 0.0315 - val_loss: 0.0110\n",
            "Epoch 29/50\n",
            "\u001b[1m169/169\u001b[0m \u001b[32m━━━━━━━━━━━━━━━━━━━━\u001b[0m\u001b[37m\u001b[0m \u001b[1m2s\u001b[0m 12ms/step - loss: 0.0339 - val_loss: 0.0087\n",
            "Epoch 30/50\n",
            "\u001b[1m169/169\u001b[0m \u001b[32m━━━━━━━━━━━━━━━━━━━━\u001b[0m\u001b[37m\u001b[0m \u001b[1m2s\u001b[0m 12ms/step - loss: 0.0372 - val_loss: 0.0061\n",
            "Epoch 31/50\n",
            "\u001b[1m169/169\u001b[0m \u001b[32m━━━━━━━━━━━━━━━━━━━━\u001b[0m\u001b[37m\u001b[0m \u001b[1m3s\u001b[0m 18ms/step - loss: 0.0341 - val_loss: 0.0082\n",
            "Epoch 32/50\n",
            "\u001b[1m169/169\u001b[0m \u001b[32m━━━━━━━━━━━━━━━━━━━━\u001b[0m\u001b[37m\u001b[0m \u001b[1m5s\u001b[0m 15ms/step - loss: 0.0338 - val_loss: 0.0105\n",
            "Epoch 33/50\n",
            "\u001b[1m169/169\u001b[0m \u001b[32m━━━━━━━━━━━━━━━━━━━━\u001b[0m\u001b[37m\u001b[0m \u001b[1m2s\u001b[0m 12ms/step - loss: 0.0328 - val_loss: 0.0095\n",
            "Epoch 34/50\n",
            "\u001b[1m169/169\u001b[0m \u001b[32m━━━━━━━━━━━━━━━━━━━━\u001b[0m\u001b[37m\u001b[0m \u001b[1m2s\u001b[0m 12ms/step - loss: 0.0344 - val_loss: 0.0089\n",
            "Epoch 35/50\n",
            "\u001b[1m169/169\u001b[0m \u001b[32m━━━━━━━━━━━━━━━━━━━━\u001b[0m\u001b[37m\u001b[0m \u001b[1m3s\u001b[0m 15ms/step - loss: 0.0329 - val_loss: 0.0081\n",
            "Epoch 36/50\n",
            "\u001b[1m169/169\u001b[0m \u001b[32m━━━━━━━━━━━━━━━━━━━━\u001b[0m\u001b[37m\u001b[0m \u001b[1m3s\u001b[0m 16ms/step - loss: 0.0299 - val_loss: 0.0072\n",
            "Epoch 37/50\n",
            "\u001b[1m169/169\u001b[0m \u001b[32m━━━━━━━━━━━━━━━━━━━━\u001b[0m\u001b[37m\u001b[0m \u001b[1m2s\u001b[0m 12ms/step - loss: 0.0327 - val_loss: 0.0063\n",
            "Epoch 38/50\n",
            "\u001b[1m169/169\u001b[0m \u001b[32m━━━━━━━━━━━━━━━━━━━━\u001b[0m\u001b[37m\u001b[0m \u001b[1m2s\u001b[0m 12ms/step - loss: 0.0335 - val_loss: 0.0064\n",
            "Epoch 39/50\n",
            "\u001b[1m169/169\u001b[0m \u001b[32m━━━━━━━━━━━━━━━━━━━━\u001b[0m\u001b[37m\u001b[0m \u001b[1m3s\u001b[0m 12ms/step - loss: 0.0325 - val_loss: 0.0044\n",
            "Epoch 40/50\n",
            "\u001b[1m169/169\u001b[0m \u001b[32m━━━━━━━━━━━━━━━━━━━━\u001b[0m\u001b[37m\u001b[0m \u001b[1m2s\u001b[0m 12ms/step - loss: 0.0343 - val_loss: 0.0061\n",
            "Epoch 41/50\n",
            "\u001b[1m169/169\u001b[0m \u001b[32m━━━━━━━━━━━━━━━━━━━━\u001b[0m\u001b[37m\u001b[0m \u001b[1m3s\u001b[0m 17ms/step - loss: 0.0308 - val_loss: 0.0079\n",
            "Epoch 42/50\n",
            "\u001b[1m169/169\u001b[0m \u001b[32m━━━━━━━━━━━━━━━━━━━━\u001b[0m\u001b[37m\u001b[0m \u001b[1m3s\u001b[0m 15ms/step - loss: 0.0299 - val_loss: 0.0062\n",
            "Epoch 43/50\n",
            "\u001b[1m169/169\u001b[0m \u001b[32m━━━━━━━━━━━━━━━━━━━━\u001b[0m\u001b[37m\u001b[0m \u001b[1m5s\u001b[0m 13ms/step - loss: 0.0321 - val_loss: 0.0058\n",
            "Epoch 44/50\n",
            "\u001b[1m169/169\u001b[0m \u001b[32m━━━━━━━━━━━━━━━━━━━━\u001b[0m\u001b[37m\u001b[0m \u001b[1m2s\u001b[0m 12ms/step - loss: 0.0333 - val_loss: 0.0036\n",
            "Epoch 45/50\n",
            "\u001b[1m169/169\u001b[0m \u001b[32m━━━━━━━━━━━━━━━━━━━━\u001b[0m\u001b[37m\u001b[0m \u001b[1m2s\u001b[0m 12ms/step - loss: 0.0310 - val_loss: 0.0058\n",
            "Epoch 46/50\n",
            "\u001b[1m169/169\u001b[0m \u001b[32m━━━━━━━━━━━━━━━━━━━━\u001b[0m\u001b[37m\u001b[0m \u001b[1m3s\u001b[0m 19ms/step - loss: 0.0296 - val_loss: 0.0070\n",
            "Epoch 47/50\n",
            "\u001b[1m169/169\u001b[0m \u001b[32m━━━━━━━━━━━━━━━━━━━━\u001b[0m\u001b[37m\u001b[0m \u001b[1m2s\u001b[0m 13ms/step - loss: 0.0305 - val_loss: 0.0057\n",
            "Epoch 48/50\n",
            "\u001b[1m169/169\u001b[0m \u001b[32m━━━━━━━━━━━━━━━━━━━━\u001b[0m\u001b[37m\u001b[0m \u001b[1m2s\u001b[0m 12ms/step - loss: 0.0299 - val_loss: 0.0047\n",
            "Epoch 49/50\n",
            "\u001b[1m169/169\u001b[0m \u001b[32m━━━━━━━━━━━━━━━━━━━━\u001b[0m\u001b[37m\u001b[0m \u001b[1m3s\u001b[0m 12ms/step - loss: 0.0350 - val_loss: 0.0054\n",
            "Epoch 50/50\n",
            "\u001b[1m169/169\u001b[0m \u001b[32m━━━━━━━━━━━━━━━━━━━━\u001b[0m\u001b[37m\u001b[0m \u001b[1m3s\u001b[0m 12ms/step - loss: 0.0300 - val_loss: 0.0058\n"
          ]
        }
      ]
    },
    {
      "cell_type": "code",
      "source": [
        "plt.plot(history.history['loss'], label='Training Loss')\n",
        "plt.plot(history.history['val_loss'], label='Validation Loss')\n",
        "plt.legend()\n",
        "plt"
      ],
      "metadata": {
        "colab": {
          "base_uri": "https://localhost:8080/",
          "height": 448
        },
        "id": "mOy3VBnIZlmJ",
        "outputId": "aa7abfd9-e4d9-40ce-87b4-983125314fb4"
      },
      "execution_count": 44,
      "outputs": [
        {
          "output_type": "execute_result",
          "data": {
            "text/plain": [
              "<module 'matplotlib.pyplot' from '/usr/local/lib/python3.10/dist-packages/matplotlib/pyplot.py'>"
            ]
          },
          "metadata": {},
          "execution_count": 44
        },
        {
          "output_type": "display_data",
          "data": {
            "text/plain": [
              "<Figure size 640x480 with 1 Axes>"
            ],
            "image/png": "[encoded data removed]"
          },
          "metadata": {}
        }
      ]
    },
    {
      "cell_type": "markdown",
      "source": [
        "#FORECASTING"
      ],
      "metadata": {
        "id": "BKtSupUfa9Dq"
      }
    },
    {
      "cell_type": "code",
      "source": [
        "n_future=90 #Redefining n_future to extend prediction dates beyond original n_future dates..\n",
        "forecast_period_dates = pd.date_range(list(train_dates)[-1], periods=n_future, freq='1d').tolist()"
      ],
      "metadata": {
        "id": "cPHnUEnkbEqw"
      },
      "execution_count": 47,
      "outputs": []
    },
    {
      "cell_type": "code",
      "source": [
        "forecast = model.predict(trainX[-n_future:]) #forcast"
      ],
      "metadata": {
        "colab": {
          "base_uri": "https://localhost:8080/"
        },
        "id": "mTY_vSGKcDbY",
        "outputId": "b3caa2ae-0a89-4eed-9d2b-d78f549dd43c"
      },
      "execution_count": 48,
      "outputs": [
        {
          "output_type": "stream",
          "name": "stdout",
          "text": [
            "\u001b[1m3/3\u001b[0m \u001b[32m━━━━━━━━━━━━━━━━━━━━\u001b[0m\u001b[37m\u001b[0m \u001b[1m1s\u001b[0m 223ms/step\n"
          ]
        }
      ]
    },
    {
      "cell_type": "code",
      "source": [
        "forecast"
      ],
      "metadata": {
        "colab": {
          "base_uri": "https://localhost:8080/"
        },
        "id": "KoX1zZ8QcMN5",
        "outputId": "c90f8883-6a37-4af8-b0e9-c12621a2530b"
      },
      "execution_count": 49,
      "outputs": [
        {
          "output_type": "execute_result",
          "data": {
            "text/plain": [
              "array([[0.16686861],\n",
              "       [0.18045601],\n",
              "       [0.17623173],\n",
              "       [0.17138082],\n",
              "       [0.18669619],\n",
              "       [0.21161145],\n",
              "       [0.22475524],\n",
              "       [0.22881624],\n",
              "       [0.22795357],\n",
              "       [0.2108022 ],\n",
              "       [0.19729345],\n",
              "       [0.1824597 ],\n",
              "       [0.1718866 ],\n",
              "       [0.18699217],\n",
              "       [0.21401525],\n",
              "       [0.21871662],\n",
              "       [0.23603001],\n",
              "       [0.24586847],\n",
              "       [0.26127538],\n",
              "       [0.26748553],\n",
              "       [0.26023406],\n",
              "       [0.22455367],\n",
              "       [0.1838539 ],\n",
              "       [0.16771075],\n",
              "       [0.14934038],\n",
              "       [0.14670411],\n",
              "       [0.1598101 ],\n",
              "       [0.15920676],\n",
              "       [0.13329583],\n",
              "       [0.09927021],\n",
              "       [0.09098811],\n",
              "       [0.09084138],\n",
              "       [0.11211001],\n",
              "       [0.12759098],\n",
              "       [0.14627822],\n",
              "       [0.1708011 ],\n",
              "       [0.17401889],\n",
              "       [0.1421586 ],\n",
              "       [0.1137433 ],\n",
              "       [0.10898421],\n",
              "       [0.08955846],\n",
              "       [0.07083519],\n",
              "       [0.05047515],\n",
              "       [0.04959629],\n",
              "       [0.09596818],\n",
              "       [0.13270336],\n",
              "       [0.1272904 ],\n",
              "       [0.0796319 ],\n",
              "       [0.08218547],\n",
              "       [0.08699309],\n",
              "       [0.07492936],\n",
              "       [0.07545928],\n",
              "       [0.08611105],\n",
              "       [0.11390128],\n",
              "       [0.14226785],\n",
              "       [0.17519209],\n",
              "       [0.19534442],\n",
              "       [0.21789628],\n",
              "       [0.23759142],\n",
              "       [0.26294076],\n",
              "       [0.27223402],\n",
              "       [0.29581714],\n",
              "       [0.32780936],\n",
              "       [0.35122785],\n",
              "       [0.3585553 ],\n",
              "       [0.35946718],\n",
              "       [0.36313954],\n",
              "       [0.36494753],\n",
              "       [0.35537344],\n",
              "       [0.3484502 ],\n",
              "       [0.37210548],\n",
              "       [0.4050217 ],\n",
              "       [0.41260025],\n",
              "       [0.39559916],\n",
              "       [0.38410768],\n",
              "       [0.3669838 ],\n",
              "       [0.3720183 ],\n",
              "       [0.3783911 ],\n",
              "       [0.4027528 ],\n",
              "       [0.40803018],\n",
              "       [0.40732512],\n",
              "       [0.4291657 ],\n",
              "       [0.4499314 ],\n",
              "       [0.483498  ],\n",
              "       [0.47802898],\n",
              "       [0.5047571 ],\n",
              "       [0.52926236],\n",
              "       [0.54667157],\n",
              "       [0.5636301 ],\n",
              "       [0.57798254]], dtype=float32)"
            ]
          },
          "metadata": {},
          "execution_count": 49
        }
      ]
    },
    {
      "cell_type": "code",
      "source": [
        "# Inverse transformation to rescale back to original range\n",
        "# since we used 5 variales for transform, the inverse expects same dim\n",
        "# so, lets copy our values 5 times and then discard them after inverse tranform\n",
        "forecast_copies = np.repeat(forecast, df_for_training.shape[1], axis=-1)\n",
        "y_pred_future = scaler.inverse_transform(forecast_copies)[:,0]"
      ],
      "metadata": {
        "id": "IHpTmELjcNiJ"
      },
      "execution_count": 54,
      "outputs": []
    },
    {
      "cell_type": "code",
      "source": [
        "y_pred_future"
      ],
      "metadata": {
        "colab": {
          "base_uri": "https://localhost:8080/"
        },
        "id": "mSfWEt0jdauZ",
        "outputId": "bf2605ee-f151-469e-bce4-88f159bb16d6"
      },
      "execution_count": 55,
      "outputs": [
        {
          "output_type": "execute_result",
          "data": {
            "text/plain": [
              "array([86.448395, 86.860146, 86.73213 , 86.58514 , 87.04924 , 87.80426 ,\n",
              "       88.20257 , 88.32563 , 88.299484, 87.77974 , 87.37038 , 86.92086 ,\n",
              "       86.60046 , 87.05821 , 87.877106, 88.01958 , 88.544235, 88.84237 ,\n",
              "       89.30926 , 89.497444, 89.2777  , 88.19646 , 86.96311 , 86.473915,\n",
              "       85.91723 , 85.83734 , 86.2345  , 86.21622 , 85.43102 , 84.399925,\n",
              "       84.14895 , 84.1445  , 84.78902 , 85.25815 , 85.82443 , 86.567566,\n",
              "       86.66508 , 85.6996  , 84.83851 , 84.6943  , 84.10563 , 83.538246,\n",
              "       82.921265, 82.89463 , 84.299866, 85.41307 , 85.24904 , 83.80482 ,\n",
              "       83.8822  , 84.027885, 83.662315, 83.67837 , 84.00116 , 84.8433  ,\n",
              "       85.7029  , 86.70063 , 87.31132 , 87.99471 , 88.591545, 89.359726,\n",
              "       89.64134 , 90.355995, 91.32547 , 92.03513 , 92.25718 , 92.28481 ,\n",
              "       92.3961  , 92.45089 , 92.16076 , 91.95096 , 92.6678  , 93.665276,\n",
              "       93.894936, 93.37974 , 93.03151 , 92.512596, 92.66516 , 92.85828 ,\n",
              "       93.59652 , 93.75645 , 93.73508 , 94.39693 , 95.0262  , 96.04339 ,\n",
              "       95.877655, 96.687614, 97.43021 , 97.95777 , 98.47167 , 98.9066  ],\n",
              "      dtype=float32)"
            ]
          },
          "metadata": {},
          "execution_count": 55
        }
      ]
    },
    {
      "cell_type": "code",
      "source": [
        "#CONVERT TIMESTAMP TO DATE\n",
        "forecast_dates = []\n",
        "for time_i in forecast_period_dates:\n",
        "    forecast_dates.append(time_i.date())\n",
        "\n",
        "df_forecast = pd.DataFrame({'Date':np.array(forecast_dates), 'Open':y_pred_future})\n",
        "df_forecast['Date']=pd.to_datetime(df_forecast['Date'])"
      ],
      "metadata": {
        "id": "EvKtVJGocmLd"
      },
      "execution_count": 60,
      "outputs": []
    },
    {
      "cell_type": "code",
      "source": [
        "original = df[['Date', 'Open']]\n",
        "original['Date']=pd.to_datetime(original['Date'])\n",
        "original = original.loc[original['Date'] >= '2020-5-1']"
      ],
      "metadata": {
        "colab": {
          "base_uri": "https://localhost:8080/"
        },
        "id": "GdULiKc4c2Xl",
        "outputId": "73c4479f-3707-44e3-de87-4200564a4537"
      },
      "execution_count": 61,
      "outputs": [
        {
          "output_type": "stream",
          "name": "stderr",
          "text": [
            "<ipython-input-61-023fd395994a>:2: SettingWithCopyWarning: \n",
            "A value is trying to be set on a copy of a slice from a DataFrame.\n",
            "Try using .loc[row_indexer,col_indexer] = value instead\n",
            "\n",
            "See the caveats in the documentation: https://pandas.pydata.org/pandas-docs/stable/user_guide/indexing.html#returning-a-view-versus-a-copy\n",
            "  original['Date']=pd.to_datetime(original['Date'])\n"
          ]
        }
      ]
    },
    {
      "cell_type": "code",
      "source": [
        "import seaborn as sns\n",
        "import matplotlib.pyplot as plt\n",
        "\n",
        "# Assuming 'original' and 'df_forecast' are pandas DataFrames\n",
        "sns.lineplot(x='Date', y='Open', data=original, label=\"Original Data\")\n",
        "sns.lineplot(x='Date', y='Open', data=df_forecast, label=\"Forecast Data\")\n",
        "\n"
      ],
      "metadata": {
        "colab": {
          "base_uri": "https://localhost:8080/",
          "height": 467
        },
        "id": "NKD-AfeEdJD3",
        "outputId": "18ab9c81-591a-4503-b4e0-23cd9e8f2639"
      },
      "execution_count": 68,
      "outputs": [
        {
          "output_type": "execute_result",
          "data": {
            "text/plain": [
              "<Axes: xlabel='Date', ylabel='Open'>"
            ]
          },
          "metadata": {},
          "execution_count": 68
        },
        {
          "output_type": "display_data",
          "data": {
            "text/plain": [
              "<Figure size 640x480 with 1 Axes>"
            ],
            "image/png": "[encoded data removed]"
          },
          "metadata": {}
        }
      ]
    },
    {
      "cell_type": "code",
      "source": [],
      "metadata": {
        "id": "2wPKKnfXdj-F"
      },
      "execution_count": null,
      "outputs": []
    }
  ]
}